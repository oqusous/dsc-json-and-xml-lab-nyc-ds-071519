{
 "cells": [
  {
   "cell_type": "markdown",
   "metadata": {},
   "source": [
    "# JSON and XML - Lab"
   ]
  },
  {
   "cell_type": "markdown",
   "metadata": {},
   "source": [
    "## Introduction\n",
    "\n",
    "In this lab, you'll practice navigating JSON and XML data structures."
   ]
  },
  {
   "cell_type": "markdown",
   "metadata": {},
   "source": [
    "## Objectives\n",
    "You will be able to:\n",
    "* Effectively use the JSON module to load and parse JSON documents\n",
    "* Read and access data stored in JSON and XML\n",
    "* Compare  and contrast the JSON and XML as data interchange types\n"
   ]
  },
  {
   "cell_type": "markdown",
   "metadata": {},
   "source": [
    "## XML"
   ]
  },
  {
   "cell_type": "code",
   "execution_count": 1,
   "metadata": {},
   "outputs": [],
   "source": [
    "import xml.etree.ElementTree as ET"
   ]
  },
  {
   "cell_type": "markdown",
   "metadata": {},
   "source": [
    "### Create an XML tree and retrieve the root tag."
   ]
  },
  {
   "cell_type": "code",
   "execution_count": 7,
   "metadata": {},
   "outputs": [
    {
     "name": "stdout",
     "output_type": "stream",
     "text": [
      "<Element 'response' at 0x7fcd97a8fb38>\n"
     ]
    }
   ],
   "source": [
    "#Your code here\n",
    "tree = ET.parse('nyc_2001_campaign_finance.xml')\n",
    "root = tree.getroot()\n",
    "print(root)"
   ]
  },
  {
   "cell_type": "code",
   "execution_count": 9,
   "metadata": {},
   "outputs": [
    {
     "name": "stdout",
     "output_type": "stream",
     "text": [
      "Child:\n",
      "\n",
      "row {}\n",
      "Grandchildren:\n",
      "row {'_id': '1', '_uuid': 'E3E9CC9F-7443-43F6-94AF-B5A0F802DBA1', '_position': '1', '_address': 'https://data.cityofnewyork.us/resource/_8dhd-zvi6/1'}\n",
      "row {'_id': '2', '_uuid': '9D257416-581A-4C42-85CC-B6EAD9DED97F', '_position': '2', '_address': 'https://data.cityofnewyork.us/resource/_8dhd-zvi6/2'}\n",
      "row {'_id': '3', '_uuid': 'B80D7891-93CF-49E8-86E8-182B618E68F2', '_position': '3', '_address': 'https://data.cityofnewyork.us/resource/_8dhd-zvi6/3'}\n",
      "row {'_id': '4', '_uuid': 'BB012003-78F5-406D-8A87-7FF8A425EE3F', '_position': '4', '_address': 'https://data.cityofnewyork.us/resource/_8dhd-zvi6/4'}\n",
      "row {'_id': '5', '_uuid': '945825F9-2F5D-47C2-A16B-75B93E61E1AD', '_position': '5', '_address': 'https://data.cityofnewyork.us/resource/_8dhd-zvi6/5'}\n",
      "row {'_id': '6', '_uuid': '9546F502-39D6-4340-B37E-60682EB22274', '_position': '6', '_address': 'https://data.cityofnewyork.us/resource/_8dhd-zvi6/6'}\n",
      "row {'_id': '7', '_uuid': '4B6C74AD-17A0-4B7E-973A-2592D68A687D', '_position': '7', '_address': 'https://data.cityofnewyork.us/resource/_8dhd-zvi6/7'}\n",
      "row {'_id': '8', '_uuid': 'ABD22A5E-B8DA-446F-82BC-93AA11AF99DF', '_position': '8', '_address': 'https://data.cityofnewyork.us/resource/_8dhd-zvi6/8'}\n",
      "row {'_id': '9', '_uuid': '7CD36FB5-600F-44F5-A10C-CB3434B6805F', '_position': '9', '_address': 'https://data.cityofnewyork.us/resource/_8dhd-zvi6/9'}\n",
      "row {'_id': '10', '_uuid': '7C977007-BC4A-4A04-AE0E-B2946AFE7193', '_position': '10', '_address': 'https://data.cityofnewyork.us/resource/_8dhd-zvi6/10'}\n",
      "row {'_id': '11', '_uuid': '09E1FEC7-1CA8-4C6B-8EA9-48AFB59B4736', '_position': '11', '_address': 'https://data.cityofnewyork.us/resource/_8dhd-zvi6/11'}\n",
      "row {'_id': '12', '_uuid': 'B2246B0E-2B34-411E-8205-8A413D6FC36B', '_position': '12', '_address': 'https://data.cityofnewyork.us/resource/_8dhd-zvi6/12'}\n",
      "row {'_id': '13', '_uuid': '2BA2F8A3-72FD-4108-9162-5654AE72095B', '_position': '13', '_address': 'https://data.cityofnewyork.us/resource/_8dhd-zvi6/13'}\n",
      "row {'_id': '14', '_uuid': 'A1886DC9-C832-43A0-8865-F1C72152CB0F', '_position': '14', '_address': 'https://data.cityofnewyork.us/resource/_8dhd-zvi6/14'}\n",
      "row {'_id': '15', '_uuid': 'F85C0201-7BC9-40A8-8AA1-D18E1E9DE1E7', '_position': '15', '_address': 'https://data.cityofnewyork.us/resource/_8dhd-zvi6/15'}\n",
      "row {'_id': '16', '_uuid': '97494A75-34A2-428F-9D9E-019E8CF7C337', '_position': '16', '_address': 'https://data.cityofnewyork.us/resource/_8dhd-zvi6/16'}\n",
      "row {'_id': '17', '_uuid': '36BA4807-FA7C-4610-8EEB-63ADAB58EDC6', '_position': '17', '_address': 'https://data.cityofnewyork.us/resource/_8dhd-zvi6/17'}\n",
      "row {'_id': '18', '_uuid': '675CBD1F-CEE4-4848-A70E-E80DECE4E42B', '_position': '18', '_address': 'https://data.cityofnewyork.us/resource/_8dhd-zvi6/18'}\n",
      "row {'_id': '19', '_uuid': '19471488-6B68-4002-8333-9B1B69CBE326', '_position': '19', '_address': 'https://data.cityofnewyork.us/resource/_8dhd-zvi6/19'}\n",
      "row {'_id': '20', '_uuid': '3F81CC8B-6A61-43D0-AA7C-082DCD16AFE0', '_position': '20', '_address': 'https://data.cityofnewyork.us/resource/_8dhd-zvi6/20'}\n",
      "row {'_id': '21', '_uuid': '8234EA21-25DF-4450-9FD9-DFB37BCBB756', '_position': '21', '_address': 'https://data.cityofnewyork.us/resource/_8dhd-zvi6/21'}\n",
      "row {'_id': '22', '_uuid': '49D9E145-460C-4DA6-8BF4-5FD710369A70', '_position': '22', '_address': 'https://data.cityofnewyork.us/resource/_8dhd-zvi6/22'}\n",
      "row {'_id': '23', '_uuid': 'F3BEDBD9-2ED9-4288-8927-1E94C99C6DF0', '_position': '23', '_address': 'https://data.cityofnewyork.us/resource/_8dhd-zvi6/23'}\n",
      "row {'_id': '24', '_uuid': 'D5BF19D9-6A44-49E7-A09B-C1003ECAFDD2', '_position': '24', '_address': 'https://data.cityofnewyork.us/resource/_8dhd-zvi6/24'}\n",
      "row {'_id': '25', '_uuid': '394A5985-BC4B-4DA8-854A-D3F5732A377D', '_position': '25', '_address': 'https://data.cityofnewyork.us/resource/_8dhd-zvi6/25'}\n",
      "row {'_id': '26', '_uuid': '2D3AEA15-20FE-4616-9478-488620DB9650', '_position': '26', '_address': 'https://data.cityofnewyork.us/resource/_8dhd-zvi6/26'}\n",
      "row {'_id': '27', '_uuid': '23195BCD-91D4-4CC2-8710-E6CC670A15FA', '_position': '27', '_address': 'https://data.cityofnewyork.us/resource/_8dhd-zvi6/27'}\n",
      "row {'_id': '28', '_uuid': '5C6F0B3D-8D2B-4690-AFDC-0F4AED8189B2', '_position': '28', '_address': 'https://data.cityofnewyork.us/resource/_8dhd-zvi6/28'}\n",
      "row {'_id': '29', '_uuid': '9F78DA91-3585-4549-93D7-BC928A2ED528', '_position': '29', '_address': 'https://data.cityofnewyork.us/resource/_8dhd-zvi6/29'}\n",
      "row {'_id': '30', '_uuid': 'E2ADADBB-AED6-4D63-A2B1-7190BA3CE4F0', '_position': '30', '_address': 'https://data.cityofnewyork.us/resource/_8dhd-zvi6/30'}\n",
      "row {'_id': '31', '_uuid': '1048A3D4-18BC-4EE8-9B62-3BFF47B1B6DC', '_position': '31', '_address': 'https://data.cityofnewyork.us/resource/_8dhd-zvi6/31'}\n",
      "row {'_id': '32', '_uuid': 'A283D146-5210-4245-B6B5-F4371EDE5F39', '_position': '32', '_address': 'https://data.cityofnewyork.us/resource/_8dhd-zvi6/32'}\n",
      "row {'_id': '33', '_uuid': 'FFBB38C9-061A-4177-9568-C34C5476433A', '_position': '33', '_address': 'https://data.cityofnewyork.us/resource/_8dhd-zvi6/33'}\n",
      "row {'_id': '34', '_uuid': 'ED5AB3F7-B0B4-4599-B342-2666918A9AE9', '_position': '34', '_address': 'https://data.cityofnewyork.us/resource/_8dhd-zvi6/34'}\n",
      "row {'_id': '35', '_uuid': '38E00AF4-4C98-4B5E-8D19-680C36097390', '_position': '35', '_address': 'https://data.cityofnewyork.us/resource/_8dhd-zvi6/35'}\n",
      "row {'_id': '36', '_uuid': 'F2FF0EA9-6465-45EE-8276-CDC7E003FCD9', '_position': '36', '_address': 'https://data.cityofnewyork.us/resource/_8dhd-zvi6/36'}\n",
      "row {'_id': '37', '_uuid': 'C2F1CB4C-D72E-4780-ADDE-A160FEC344F8', '_position': '37', '_address': 'https://data.cityofnewyork.us/resource/_8dhd-zvi6/37'}\n",
      "row {'_id': '38', '_uuid': '926A04F0-D7C0-410E-872A-418ABBDCB6EB', '_position': '38', '_address': 'https://data.cityofnewyork.us/resource/_8dhd-zvi6/38'}\n",
      "row {'_id': '39', '_uuid': '4A6C9055-91BF-45F5-878F-5B36509A86C3', '_position': '39', '_address': 'https://data.cityofnewyork.us/resource/_8dhd-zvi6/39'}\n",
      "row {'_id': '40', '_uuid': 'B7C2223F-F741-4F63-937F-5CF3016CB8E4', '_position': '40', '_address': 'https://data.cityofnewyork.us/resource/_8dhd-zvi6/40'}\n",
      "row {'_id': '41', '_uuid': '412962BF-CCD3-482D-9536-B352D4E5A8BA', '_position': '41', '_address': 'https://data.cityofnewyork.us/resource/_8dhd-zvi6/41'}\n",
      "row {'_id': '42', '_uuid': '34FF868B-9A07-4BE7-A791-A4E92E73B7C7', '_position': '42', '_address': 'https://data.cityofnewyork.us/resource/_8dhd-zvi6/42'}\n",
      "row {'_id': '43', '_uuid': '973F1C23-BBDD-4DC4-A661-ABA857A25E9A', '_position': '43', '_address': 'https://data.cityofnewyork.us/resource/_8dhd-zvi6/43'}\n",
      "row {'_id': '44', '_uuid': 'CFE1FB14-892E-4311-8A41-62E958370383', '_position': '44', '_address': 'https://data.cityofnewyork.us/resource/_8dhd-zvi6/44'}\n",
      "row {'_id': '45', '_uuid': '5C503029-3B4B-438B-B6D0-7E671103D2B2', '_position': '45', '_address': 'https://data.cityofnewyork.us/resource/_8dhd-zvi6/45'}\n",
      "row {'_id': '46', '_uuid': '19D0A5FC-20F2-4EAF-8002-5C3F9E9582A6', '_position': '46', '_address': 'https://data.cityofnewyork.us/resource/_8dhd-zvi6/46'}\n",
      "row {'_id': '47', '_uuid': 'BA063336-AF01-4125-B3A5-C670217D844C', '_position': '47', '_address': 'https://data.cityofnewyork.us/resource/_8dhd-zvi6/47'}\n",
      "row {'_id': '48', '_uuid': 'CA81ED8E-99A7-4870-8C6E-67E73538399A', '_position': '48', '_address': 'https://data.cityofnewyork.us/resource/_8dhd-zvi6/48'}\n",
      "row {'_id': '49', '_uuid': '237379CD-7B64-433B-AB1F-4B353211C5BE', '_position': '49', '_address': 'https://data.cityofnewyork.us/resource/_8dhd-zvi6/49'}\n",
      "row {'_id': '50', '_uuid': '0C2CC233-6F87-4F0A-8332-BE2E86D2075D', '_position': '50', '_address': 'https://data.cityofnewyork.us/resource/_8dhd-zvi6/50'}\n",
      "row {'_id': '51', '_uuid': '0424B1F9-891D-4E0A-AB0B-929AD3689D4B', '_position': '51', '_address': 'https://data.cityofnewyork.us/resource/_8dhd-zvi6/51'}\n",
      "row {'_id': '52', '_uuid': 'FB82BFFC-3E70-4F32-8B73-70E6CC6F2D8D', '_position': '52', '_address': 'https://data.cityofnewyork.us/resource/_8dhd-zvi6/52'}\n",
      "row {'_id': '53', '_uuid': 'BB40ECDB-0520-482C-963B-E224A9309462', '_position': '53', '_address': 'https://data.cityofnewyork.us/resource/_8dhd-zvi6/53'}\n",
      "row {'_id': '54', '_uuid': '2034417B-986C-450F-B6DC-69B58C4DC5BC', '_position': '54', '_address': 'https://data.cityofnewyork.us/resource/_8dhd-zvi6/54'}\n",
      "row {'_id': '55', '_uuid': '2C81D231-37D5-47BF-A82B-4A2BD7834C18', '_position': '55', '_address': 'https://data.cityofnewyork.us/resource/_8dhd-zvi6/55'}\n",
      "row {'_id': '56', '_uuid': '902251E2-B8F1-4B7C-8317-73FA48B4CB47', '_position': '56', '_address': 'https://data.cityofnewyork.us/resource/_8dhd-zvi6/56'}\n",
      "row {'_id': '57', '_uuid': '286B7B45-55BB-4E38-B789-FFF15FB65EE5', '_position': '57', '_address': 'https://data.cityofnewyork.us/resource/_8dhd-zvi6/57'}\n",
      "row {'_id': '58', '_uuid': 'EA2520C0-F8FF-4065-8643-E1F8EF660018', '_position': '58', '_address': 'https://data.cityofnewyork.us/resource/_8dhd-zvi6/58'}\n",
      "row {'_id': '59', '_uuid': '09FF452A-7F14-402B-8392-6CD8F4B48A3A', '_position': '59', '_address': 'https://data.cityofnewyork.us/resource/_8dhd-zvi6/59'}\n",
      "row {'_id': '60', '_uuid': '3FA29E0C-1E28-455E-87F4-DBFC05923E9C', '_position': '60', '_address': 'https://data.cityofnewyork.us/resource/_8dhd-zvi6/60'}\n",
      "row {'_id': '61', '_uuid': 'B3C1C087-7753-4991-8F52-B5FF2DDAF63F', '_position': '61', '_address': 'https://data.cityofnewyork.us/resource/_8dhd-zvi6/61'}\n",
      "row {'_id': '62', '_uuid': 'D8F06A92-ADBF-43DA-AD8B-95BDA23D878B', '_position': '62', '_address': 'https://data.cityofnewyork.us/resource/_8dhd-zvi6/62'}\n",
      "row {'_id': '63', '_uuid': '883D5984-4B00-4CE0-8779-077A1129C8E8', '_position': '63', '_address': 'https://data.cityofnewyork.us/resource/_8dhd-zvi6/63'}\n",
      "row {'_id': '64', '_uuid': '2C08B082-B5D3-4BDC-808C-166E64D585F7', '_position': '64', '_address': 'https://data.cityofnewyork.us/resource/_8dhd-zvi6/64'}\n",
      "row {'_id': '65', '_uuid': '843F66E4-3260-44A7-AD9B-88F8968CFD61', '_position': '65', '_address': 'https://data.cityofnewyork.us/resource/_8dhd-zvi6/65'}\n",
      "row {'_id': '66', '_uuid': 'E3BFC921-73E7-4C16-B9C0-72581D4372FD', '_position': '66', '_address': 'https://data.cityofnewyork.us/resource/_8dhd-zvi6/66'}\n",
      "row {'_id': '67', '_uuid': '8EB1AC4E-A6A1-4ECD-B7D6-F35CA5A6657F', '_position': '67', '_address': 'https://data.cityofnewyork.us/resource/_8dhd-zvi6/67'}\n",
      "row {'_id': '68', '_uuid': 'BC9E959C-96E9-47EC-9152-280A78EA070B', '_position': '68', '_address': 'https://data.cityofnewyork.us/resource/_8dhd-zvi6/68'}\n",
      "row {'_id': '69', '_uuid': 'C920F838-1A90-4C68-BF64-B8B27D2B5BCD', '_position': '69', '_address': 'https://data.cityofnewyork.us/resource/_8dhd-zvi6/69'}\n",
      "row {'_id': '70', '_uuid': '3E3166A0-539A-432F-9B0E-58BB4968E168', '_position': '70', '_address': 'https://data.cityofnewyork.us/resource/_8dhd-zvi6/70'}\n",
      "row {'_id': '71', '_uuid': 'EDCB7871-51FB-49C5-BD99-831AD62A80E6', '_position': '71', '_address': 'https://data.cityofnewyork.us/resource/_8dhd-zvi6/71'}\n",
      "row {'_id': '72', '_uuid': '18081FB0-95BB-416E-80AB-414133B108B8', '_position': '72', '_address': 'https://data.cityofnewyork.us/resource/_8dhd-zvi6/72'}\n",
      "row {'_id': '73', '_uuid': 'E828826E-5A6F-46D8-8FA2-AC59EC10C3AB', '_position': '73', '_address': 'https://data.cityofnewyork.us/resource/_8dhd-zvi6/73'}\n",
      "row {'_id': '74', '_uuid': '7451EDAD-7448-46A3-B685-F128D55F8F12', '_position': '74', '_address': 'https://data.cityofnewyork.us/resource/_8dhd-zvi6/74'}\n",
      "row {'_id': '75', '_uuid': 'BFD3BAE2-E372-49FD-BB4D-15FE913BEFA9', '_position': '75', '_address': 'https://data.cityofnewyork.us/resource/_8dhd-zvi6/75'}\n",
      "row {'_id': '76', '_uuid': '5FFA1F25-06CD-4F87-A012-DAC2EF920A10', '_position': '76', '_address': 'https://data.cityofnewyork.us/resource/_8dhd-zvi6/76'}\n",
      "row {'_id': '77', '_uuid': '9B60CEB3-D622-446C-A85D-7C22F3CB423B', '_position': '77', '_address': 'https://data.cityofnewyork.us/resource/_8dhd-zvi6/77'}\n",
      "row {'_id': '78', '_uuid': 'D6E4D4D1-5B41-4DA7-8434-C8E2BD2481C5', '_position': '78', '_address': 'https://data.cityofnewyork.us/resource/_8dhd-zvi6/78'}\n",
      "row {'_id': '79', '_uuid': 'C5BE0C24-6B2B-4734-970F-05FDD8007F6A', '_position': '79', '_address': 'https://data.cityofnewyork.us/resource/_8dhd-zvi6/79'}\n",
      "row {'_id': '80', '_uuid': 'D01426D2-6B24-4C94-9A8A-93179972415D', '_position': '80', '_address': 'https://data.cityofnewyork.us/resource/_8dhd-zvi6/80'}\n",
      "row {'_id': '81', '_uuid': 'D53E0AFF-4943-447C-8DC1-28E8989C52C4', '_position': '81', '_address': 'https://data.cityofnewyork.us/resource/_8dhd-zvi6/81'}\n",
      "row {'_id': '82', '_uuid': '4F6538AF-3784-45CA-BFFA-D9F78C1C79AB', '_position': '82', '_address': 'https://data.cityofnewyork.us/resource/_8dhd-zvi6/82'}\n",
      "row {'_id': '83', '_uuid': '6CEEA576-0625-42D4-81A5-1E3970A0D77D', '_position': '83', '_address': 'https://data.cityofnewyork.us/resource/_8dhd-zvi6/83'}\n",
      "row {'_id': '84', '_uuid': '538684BB-4441-487C-9617-2529DEF898A2', '_position': '84', '_address': 'https://data.cityofnewyork.us/resource/_8dhd-zvi6/84'}\n",
      "row {'_id': '85', '_uuid': 'F328D07C-37DF-4400-93BA-2D4C39CEB576', '_position': '85', '_address': 'https://data.cityofnewyork.us/resource/_8dhd-zvi6/85'}\n",
      "row {'_id': '86', '_uuid': 'E61A1E4A-0D1E-4496-B95B-A91C7969CA09', '_position': '86', '_address': 'https://data.cityofnewyork.us/resource/_8dhd-zvi6/86'}\n",
      "row {'_id': '87', '_uuid': '5D06CFFB-6946-4FEC-9F81-9C39D7ED10BB', '_position': '87', '_address': 'https://data.cityofnewyork.us/resource/_8dhd-zvi6/87'}\n",
      "row {'_id': '88', '_uuid': 'A2275AA6-81AA-40E9-8996-0403DEFB67E4', '_position': '88', '_address': 'https://data.cityofnewyork.us/resource/_8dhd-zvi6/88'}\n",
      "row {'_id': '89', '_uuid': 'E4C62499-6FF5-4064-A3CD-E896867F6415', '_position': '89', '_address': 'https://data.cityofnewyork.us/resource/_8dhd-zvi6/89'}\n",
      "row {'_id': '90', '_uuid': '512D06A9-CFC5-468D-B311-DB2A8B2DABFE', '_position': '90', '_address': 'https://data.cityofnewyork.us/resource/_8dhd-zvi6/90'}\n",
      "row {'_id': '91', '_uuid': 'D64F5E95-D0F3-4A2E-8951-0D016EC5AD9E', '_position': '91', '_address': 'https://data.cityofnewyork.us/resource/_8dhd-zvi6/91'}\n",
      "row {'_id': '92', '_uuid': 'EB0B3130-E1D9-4685-8173-0519B5A1F4EA', '_position': '92', '_address': 'https://data.cityofnewyork.us/resource/_8dhd-zvi6/92'}\n",
      "row {'_id': '93', '_uuid': 'D7862519-9B8D-4423-8E4C-7BA7406B9FD4', '_position': '93', '_address': 'https://data.cityofnewyork.us/resource/_8dhd-zvi6/93'}\n",
      "row {'_id': '94', '_uuid': '636DF6FD-970F-4ED6-9E3D-0E2F9F406D63', '_position': '94', '_address': 'https://data.cityofnewyork.us/resource/_8dhd-zvi6/94'}\n",
      "row {'_id': '95', '_uuid': '9C0FEAE1-74B8-435A-BF34-48996A64A631', '_position': '95', '_address': 'https://data.cityofnewyork.us/resource/_8dhd-zvi6/95'}\n",
      "row {'_id': '96', '_uuid': '2D5F98D3-B7AC-4355-B5F3-35EE665C09AA', '_position': '96', '_address': 'https://data.cityofnewyork.us/resource/_8dhd-zvi6/96'}\n",
      "row {'_id': '97', '_uuid': '19504C29-E61C-41CA-8F9B-3A940C45C558', '_position': '97', '_address': 'https://data.cityofnewyork.us/resource/_8dhd-zvi6/97'}\n",
      "row {'_id': '98', '_uuid': '327EB48F-126F-4939-BBCF-983555DCB31C', '_position': '98', '_address': 'https://data.cityofnewyork.us/resource/_8dhd-zvi6/98'}\n",
      "row {'_id': '99', '_uuid': 'EE2AEA90-F9FC-47B8-B59D-6ED85648844A', '_position': '99', '_address': 'https://data.cityofnewyork.us/resource/_8dhd-zvi6/99'}\n",
      "\n",
      "\n",
      "\n"
     ]
    }
   ],
   "source": [
    "count = 0\n",
    "for child in root:\n",
    "    print('Child:\\n')\n",
    "    print(child.tag, child.attrib)\n",
    "    print('Grandchildren:')\n",
    "    for grandchild in child:print(grandchild.tag, grandchild.attrib)\n",
    "    print('\\n\\n')"
   ]
  },
  {
   "cell_type": "markdown",
   "metadata": {},
   "source": [
    "### How many direct descendents does the root tag have?"
   ]
  },
  {
   "cell_type": "code",
   "execution_count": null,
   "metadata": {},
   "outputs": [],
   "source": [
    "#Answer: 1"
   ]
  },
  {
   "cell_type": "markdown",
   "metadata": {},
   "source": [
    "### How many different types of tags are there within the entire XML file?"
   ]
  },
  {
   "cell_type": "code",
   "execution_count": null,
   "metadata": {},
   "outputs": [],
   "source": [
    "# Your code here"
   ]
  },
  {
   "cell_type": "markdown",
   "metadata": {},
   "source": [
    "### Create a DataFrame listing the number of each type of tag. \n",
    "Sort the DataFrame in descending order by the tag count. The first entry should demonstrate there are 286 row tags in the XML file.   \n",
    "(Your DataFrame will be a single column, so could also be thought of as a Series.)"
   ]
  },
  {
   "cell_type": "code",
   "execution_count": null,
   "metadata": {},
   "outputs": [],
   "source": [
    "import pandas as pd"
   ]
  },
  {
   "cell_type": "code",
   "execution_count": null,
   "metadata": {},
   "outputs": [],
   "source": [
    "#Your code here"
   ]
  },
  {
   "cell_type": "markdown",
   "metadata": {},
   "source": [
    "## JSON"
   ]
  },
  {
   "cell_type": "markdown",
   "metadata": {},
   "source": [
    "### Open the same dataset from json"
   ]
  },
  {
   "cell_type": "code",
   "execution_count": null,
   "metadata": {},
   "outputs": [],
   "source": [
    "#Your code here"
   ]
  },
  {
   "cell_type": "markdown",
   "metadata": {},
   "source": [
    "### What is the root data type of the json file?"
   ]
  },
  {
   "cell_type": "code",
   "execution_count": null,
   "metadata": {},
   "outputs": [],
   "source": [
    "### Your code here"
   ]
  },
  {
   "cell_type": "markdown",
   "metadata": {},
   "source": [
    "### Navigate to the 'data' key of your loaded json object. What data type is this?"
   ]
  },
  {
   "cell_type": "code",
   "execution_count": null,
   "metadata": {},
   "outputs": [],
   "source": [
    "#Your code here"
   ]
  },
  {
   "cell_type": "markdown",
   "metadata": {},
   "source": [
    "### Preview the first entry from the value returned by the 'data' key above."
   ]
  },
  {
   "cell_type": "code",
   "execution_count": null,
   "metadata": {},
   "outputs": [],
   "source": [
    "#Your code here"
   ]
  },
  {
   "cell_type": "markdown",
   "metadata": {},
   "source": [
    "### Preview the Entry under meta -> view -> columns (the keys of three successively nested dictionaries)"
   ]
  },
  {
   "cell_type": "code",
   "execution_count": null,
   "metadata": {},
   "outputs": [],
   "source": []
  },
  {
   "cell_type": "markdown",
   "metadata": {},
   "source": [
    "### Create a DataFrame from your json data\n",
    "The previous two questions previewed one entry from the data object within the json file, as well as the column details associated with that data from the meta entry within the json file. Both should have 19 entries. Create a DataFrame of the data. Be sure to use the information from the meta entry to add appropriate column names to your DataFrame."
   ]
  },
  {
   "cell_type": "code",
   "execution_count": null,
   "metadata": {},
   "outputs": [],
   "source": [
    "#Your code here"
   ]
  },
  {
   "cell_type": "markdown",
   "metadata": {},
   "source": [
    "### What's wrong with the first row of the DataFrame?"
   ]
  },
  {
   "cell_type": "code",
   "execution_count": null,
   "metadata": {},
   "outputs": [],
   "source": [
    "#Your code here"
   ]
  },
  {
   "cell_type": "markdown",
   "metadata": {},
   "source": [
    "#Your answer here"
   ]
  },
  {
   "cell_type": "markdown",
   "metadata": {},
   "source": [
    "## Summary\n",
    "\n",
    "Congratulations! You've started exploring some more complicated data structures used for the web and got to practice data munging and exploring!"
   ]
  }
 ],
 "metadata": {
  "kernelspec": {
   "display_name": "Python 3",
   "language": "python",
   "name": "python3"
  },
  "language_info": {
   "codemirror_mode": {
    "name": "ipython",
    "version": 3
   },
   "file_extension": ".py",
   "mimetype": "text/x-python",
   "name": "python",
   "nbconvert_exporter": "python",
   "pygments_lexer": "ipython3",
   "version": "3.6.6"
  }
 },
 "nbformat": 4,
 "nbformat_minor": 2
}
